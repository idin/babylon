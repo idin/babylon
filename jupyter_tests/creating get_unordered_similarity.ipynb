{
 "cells": [
  {
   "cell_type": "code",
   "execution_count": 1,
   "id": "49c14b0f",
   "metadata": {},
   "outputs": [],
   "source": [
    "from linguistics.similarity import Sentence"
   ]
  },
  {
   "cell_type": "code",
   "execution_count": 2,
   "id": "e2675548",
   "metadata": {},
   "outputs": [],
   "source": [
    "s1 = Sentence('John Joseph Nicholson')\n",
    "s2 = Sentence('Nicholson, Jack')"
   ]
  },
  {
   "cell_type": "code",
   "execution_count": 3,
   "id": "a4f708a7",
   "metadata": {},
   "outputs": [
    {
     "data": {
      "text/plain": [
       "[John, Joseph, Nicholson]"
      ]
     },
     "execution_count": 3,
     "metadata": {},
     "output_type": "execute_result"
    }
   ],
   "source": [
    "s1.words"
   ]
  },
  {
   "cell_type": "code",
   "execution_count": 4,
   "id": "173e1048",
   "metadata": {},
   "outputs": [
    {
     "data": {
      "text/plain": [
       "[Nicholson, Jack]"
      ]
     },
     "execution_count": 4,
     "metadata": {},
     "output_type": "execute_result"
    }
   ],
   "source": [
    "s2.words"
   ]
  },
  {
   "cell_type": "code",
   "execution_count": 5,
   "id": "b569424c",
   "metadata": {},
   "outputs": [
    {
     "data": {
      "text/plain": [
       "0.29320987654320996"
      ]
     },
     "execution_count": 5,
     "metadata": {},
     "output_type": "execute_result"
    }
   ],
   "source": [
    "s1.get_similarity(s2)"
   ]
  },
  {
   "cell_type": "code",
   "execution_count": 6,
   "id": "08b00791",
   "metadata": {},
   "outputs": [
    {
     "data": {
      "text/plain": [
       "0.35185185185185186"
      ]
     },
     "execution_count": 6,
     "metadata": {},
     "output_type": "execute_result"
    }
   ],
   "source": [
    "s1.words[1].get_similarity(s2.words[0], case_sensitivity=1)"
   ]
  },
  {
   "cell_type": "code",
   "execution_count": 7,
   "id": "c8a964d7",
   "metadata": {},
   "outputs": [
    {
     "data": {
      "text/plain": [
       "0.35185185185185186"
      ]
     },
     "execution_count": 7,
     "metadata": {},
     "output_type": "execute_result"
    }
   ],
   "source": [
    "s1.words[1].get_similarity(s2.words[0], case_sensitivity=0)"
   ]
  },
  {
   "cell_type": "code",
   "execution_count": 8,
   "id": "a796d455",
   "metadata": {},
   "outputs": [],
   "source": [
    "def get_similarity_matrix(s1, s2, case_sensitivity=1, first_char_weight=0):\n",
    "    s1 = Sentence(s1)\n",
    "    s2 = Sentence(s2)\n",
    "    \n",
    "    max_length = max(s1.length, s2.length)\n",
    "    \n",
    "    def get_similarity_by_index(i1, i2):\n",
    "        try:\n",
    "            return s1.words[i1].get_similarity(\n",
    "                s2.words[i2], case_sensitivity=case_sensitivity, first_char_weight=first_char_weight\n",
    "            )\n",
    "        except:\n",
    "            return 0\n",
    "    \n",
    "    return [\n",
    "        [(i1, i2, get_similarity_by_index(i1, i2)) \n",
    "        for i2 in range(max_length)]\n",
    "        for i1 in range(max_length)\n",
    "    ]"
   ]
  },
  {
   "cell_type": "code",
   "execution_count": 9,
   "id": "7ff78f41",
   "metadata": {},
   "outputs": [],
   "source": [
    "def get_similarity_order(s1, s2, case_sensitivity=1, first_char_weight=0):\n",
    "    similarity_matrix = get_similarity_matrix(\n",
    "        s1, s2, case_sensitivity=case_sensitivity, first_char_weight=first_char_weight\n",
    "    )\n",
    "    \n",
    "    flat_list = [e for l in similarity_matrix for e in l]\n",
    "    sorted_similarities = sorted(flat_list, key=lambda x: -x[2])\n",
    "    \n",
    "    result = []\n",
    "    for i1, i2, similarity in sorted_similarities:\n",
    "        if similarity_matrix[i1][i2] is not None:\n",
    "            if i1 < s1.length and i2 < s2.length:\n",
    "                word_1, word_2 = s1.words[i1], s2.words[i2]\n",
    "                index_1, index_2 = i1, i2\n",
    "            elif i1 < s1.length:\n",
    "                word_1, word_2 = s1.words[i1], None\n",
    "                index_1, index_2 = i1, None\n",
    "            else:\n",
    "                word_1, word_2 = None, s2.words[i2]\n",
    "                index_1, index_2 = None, i2\n",
    "                \n",
    "            result.append({\n",
    "                'word_1': word_1, 'word_2': word_2, 'similarity': similarity,\n",
    "                'index_1': index_1, 'index_2': index_2\n",
    "            })\n",
    "            \n",
    "            # remove all elements at column i2 (iterate over rows)\n",
    "            for j1 in range(len(similarity_matrix)):\n",
    "                similarity_matrix[j1][i2] = None\n",
    "                \n",
    "            # remove all elements at row i1 (iterate over columns)\n",
    "            for j2 in range(len(similarity_matrix[i1])):\n",
    "                similarity_matrix[i1][j2] = None        \n",
    "        \n",
    "    return result"
   ]
  },
  {
   "cell_type": "code",
   "execution_count": 10,
   "id": "a6e5fadf",
   "metadata": {},
   "outputs": [
    {
     "data": {
      "text/plain": [
       "[{'word_1': Nicholson,\n",
       "  'word_2': Nicholson,\n",
       "  'similarity': 1.0,\n",
       "  'index_1': 2,\n",
       "  'index_2': 0},\n",
       " {'word_1': John,\n",
       "  'word_2': Jack,\n",
       "  'similarity': 0.5,\n",
       "  'index_1': 0,\n",
       "  'index_2': 1},\n",
       " {'word_1': Joseph,\n",
       "  'word_2': None,\n",
       "  'similarity': 0,\n",
       "  'index_1': 1,\n",
       "  'index_2': None}]"
      ]
     },
     "execution_count": 10,
     "metadata": {},
     "output_type": "execute_result"
    }
   ],
   "source": [
    "get_similarity_order(s1, s2)"
   ]
  },
  {
   "cell_type": "code",
   "execution_count": 11,
   "id": "097060d8",
   "metadata": {},
   "outputs": [
    {
     "data": {
      "text/plain": [
       "[{'word_1': Nicholson,\n",
       "  'word_2': Nicholson,\n",
       "  'similarity': 1.0,\n",
       "  'index_1': 2,\n",
       "  'index_2': 0},\n",
       " {'word_1': John,\n",
       "  'word_2': Jack,\n",
       "  'similarity': 0.5,\n",
       "  'index_1': 0,\n",
       "  'index_2': 1},\n",
       " {'word_1': Joseph,\n",
       "  'word_2': None,\n",
       "  'similarity': 0,\n",
       "  'index_1': 1,\n",
       "  'index_2': None}]"
      ]
     },
     "execution_count": 11,
     "metadata": {},
     "output_type": "execute_result"
    }
   ],
   "source": [
    "get_similarity_order(s1, s2, case_sensitivity=0)"
   ]
  },
  {
   "cell_type": "code",
   "execution_count": 12,
   "id": "84fc7406",
   "metadata": {},
   "outputs": [
    {
     "data": {
      "text/plain": [
       "[{'word_1': Nicholson,\n",
       "  'word_2': Nicholson,\n",
       "  'similarity': 1.0,\n",
       "  'index_1': 2,\n",
       "  'index_2': 0},\n",
       " {'word_1': John,\n",
       "  'word_2': Jack,\n",
       "  'similarity': 0.75,\n",
       "  'index_1': 0,\n",
       "  'index_2': 1},\n",
       " {'word_1': Joseph,\n",
       "  'word_2': None,\n",
       "  'similarity': 0,\n",
       "  'index_1': 1,\n",
       "  'index_2': None}]"
      ]
     },
     "execution_count": 12,
     "metadata": {},
     "output_type": "execute_result"
    }
   ],
   "source": [
    "get_similarity_order(s1, s2, first_char_weight=1, case_sensitivity=0)"
   ]
  },
  {
   "cell_type": "code",
   "execution_count": 21,
   "id": "36b6bbb9",
   "metadata": {},
   "outputs": [
    {
     "data": {
      "text/plain": [
       "[{'word_1': Nicholson,\n",
       "  'word_2': Nicholson,\n",
       "  'similarity': 1.0,\n",
       "  'index_1': 2,\n",
       "  'index_2': 0},\n",
       " {'word_1': John,\n",
       "  'word_2': Jack,\n",
       "  'similarity': 0.5,\n",
       "  'index_1': 0,\n",
       "  'index_2': 1},\n",
       " {'word_1': Joseph,\n",
       "  'word_2': None,\n",
       "  'similarity': 0,\n",
       "  'index_1': 1,\n",
       "  'index_2': None}]"
      ]
     },
     "metadata": {},
     "output_type": "display_data"
    }
   ],
   "source": [
    "display(s1.get_similar_pairs(s2))"
   ]
  },
  {
   "cell_type": "code",
   "execution_count": 14,
   "id": "9ae5a9fc",
   "metadata": {},
   "outputs": [
    {
     "data": {
      "text/plain": [
       "0.5"
      ]
     },
     "execution_count": 14,
     "metadata": {},
     "output_type": "execute_result"
    }
   ],
   "source": [
    "s1.get_unordered_similarity(s2)"
   ]
  },
  {
   "cell_type": "code",
   "execution_count": 15,
   "id": "ef12b33c",
   "metadata": {},
   "outputs": [
    {
     "data": {
      "text/plain": [
       "0.5"
      ]
     },
     "execution_count": 15,
     "metadata": {},
     "output_type": "execute_result"
    }
   ],
   "source": [
    "s1.get_unordered_similarity(s2, case_sensitivity=0)"
   ]
  },
  {
   "cell_type": "code",
   "execution_count": 16,
   "id": "fe599aa9",
   "metadata": {},
   "outputs": [
    {
     "data": {
      "text/plain": [
       "0.75"
      ]
     },
     "execution_count": 16,
     "metadata": {},
     "output_type": "execute_result"
    }
   ],
   "source": [
    "s1.get_unordered_similarity(s2, case_sensitivity=0, weights=[1, 1])"
   ]
  },
  {
   "cell_type": "code",
   "execution_count": 17,
   "id": "d15d71c6",
   "metadata": {},
   "outputs": [
    {
     "data": {
      "text/plain": [
       "0.8333333333333334"
      ]
     },
     "execution_count": 17,
     "metadata": {},
     "output_type": "execute_result"
    }
   ],
   "source": [
    "s1.get_unordered_similarity(s2, case_sensitivity=0, weights=[2, 1])"
   ]
  },
  {
   "cell_type": "code",
   "execution_count": 18,
   "id": "449573f2",
   "metadata": {},
   "outputs": [
    {
     "data": {
      "text/plain": [
       "1.0"
      ]
     },
     "execution_count": 18,
     "metadata": {},
     "output_type": "execute_result"
    }
   ],
   "source": [
    "s1.get_unordered_similarity(s2, case_sensitivity=0, weights=[1])"
   ]
  },
  {
   "cell_type": "code",
   "execution_count": 19,
   "id": "d3ae4e5f",
   "metadata": {},
   "outputs": [
    {
     "data": {
      "text/plain": [
       "0.875"
      ]
     },
     "execution_count": 19,
     "metadata": {},
     "output_type": "execute_result"
    }
   ],
   "source": [
    "s1.get_unordered_similarity(s2, case_sensitivity=0, first_char_weight=1, weights=[1, 1])"
   ]
  },
  {
   "cell_type": "code",
   "execution_count": null,
   "id": "e17ad071",
   "metadata": {},
   "outputs": [],
   "source": []
  },
  {
   "cell_type": "code",
   "execution_count": null,
   "id": "47dfb0fb",
   "metadata": {},
   "outputs": [],
   "source": []
  }
 ],
 "metadata": {
  "kernelspec": {
   "display_name": "Python 3 (ipykernel)",
   "language": "python",
   "name": "python3"
  },
  "language_info": {
   "codemirror_mode": {
    "name": "ipython",
    "version": 3
   },
   "file_extension": ".py",
   "mimetype": "text/x-python",
   "name": "python",
   "nbconvert_exporter": "python",
   "pygments_lexer": "ipython3",
   "version": "3.9.5"
  }
 },
 "nbformat": 4,
 "nbformat_minor": 5
}
